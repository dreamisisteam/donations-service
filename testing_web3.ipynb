{
 "cells": [
  {
   "cell_type": "code",
   "execution_count": 11,
   "metadata": {},
   "outputs": [],
   "source": [
    "from web3 import Web3"
   ]
  },
  {
   "cell_type": "code",
   "execution_count": 12,
   "metadata": {},
   "outputs": [],
   "source": [
    "# Initialize connection\n",
    "node_url = 'http://127.0.0.1:9545/'\n",
    "web3_instance = Web3(Web3.HTTPProvider(node_url))"
   ]
  },
  {
   "cell_type": "code",
   "execution_count": 13,
   "metadata": {},
   "outputs": [
    {
     "name": "stdout",
     "output_type": "stream",
     "text": [
      "connection success\n"
     ]
    }
   ],
   "source": [
    "# Check if connection is established successfully\n",
    "if web3_instance.is_connected():\n",
    "    print('connection success')\n",
    "else:\n",
    "    raise ValueError('no connection established')"
   ]
  },
  {
   "cell_type": "code",
   "execution_count": 14,
   "metadata": {},
   "outputs": [],
   "source": [
    "# Owner\n",
    "owner_address = web3_instance.eth.accounts[0]"
   ]
  },
  {
   "cell_type": "code",
   "execution_count": 15,
   "metadata": {},
   "outputs": [],
   "source": [
    "# Contract address\n",
    "contract_address = '0x9e9044de58f6047e63513c12D8c6A7e53F4C6AFe'"
   ]
  },
  {
   "cell_type": "code",
   "execution_count": 16,
   "metadata": {},
   "outputs": [],
   "source": [
    "# get ABI of Exchanger\n",
    "import json\n",
    "exchanger_contract_path = '/Users/evenmare/pets/donations-solidity-token/build/contracts/DonationExchanger.json'\n",
    "with open(exchanger_contract_path) as file:\n",
    "    exchanger_contract_json = json.load(file)\n",
    "    contract_abi = exchanger_contract_json['abi']"
   ]
  },
  {
   "cell_type": "code",
   "execution_count": 17,
   "metadata": {},
   "outputs": [],
   "source": [
    "# build exchanger contract scheme\n",
    "exchanger_contract = web3_instance.eth.contract(address=contract_address, abi=contract_abi)"
   ]
  },
  {
   "cell_type": "code",
   "execution_count": 18,
   "metadata": {},
   "outputs": [
    {
     "data": {
      "text/plain": [
       "['owner', 'token', 'sell']"
      ]
     },
     "execution_count": 18,
     "metadata": {},
     "output_type": "execute_result"
    }
   ],
   "source": [
    "list(exchanger_contract.functions)  # methods of exchanger"
   ]
  },
  {
   "cell_type": "code",
   "execution_count": 19,
   "metadata": {},
   "outputs": [
    {
     "data": {
      "text/plain": [
       "'0x3Ab188835031d80874eC99856fd01E8E315f50FD'"
      ]
     },
     "execution_count": 19,
     "metadata": {},
     "output_type": "execute_result"
    }
   ],
   "source": [
    "exchanger_contract.functions.owner().call()"
   ]
  },
  {
   "cell_type": "code",
   "execution_count": 20,
   "metadata": {},
   "outputs": [
    {
     "data": {
      "text/plain": [
       "'0x59d93206ea1Dd18251897F609594175718C1f38D'"
      ]
     },
     "execution_count": 20,
     "metadata": {},
     "output_type": "execute_result"
    }
   ],
   "source": [
    "token_contract_address = exchanger_contract.functions.token().call()\n",
    "token_contract_address"
   ]
  },
  {
   "cell_type": "code",
   "execution_count": 21,
   "metadata": {},
   "outputs": [],
   "source": [
    "# get ABI of Token\n",
    "import json\n",
    "token_contract_path = '/Users/evenmare/pets/donations-solidity-token/build/contracts/DonationToken.json'\n",
    "with open(token_contract_path) as file:\n",
    "    token_contract_json = json.load(file)\n",
    "    token_contract_abi = token_contract_json['abi']"
   ]
  },
  {
   "cell_type": "code",
   "execution_count": 22,
   "metadata": {},
   "outputs": [],
   "source": [
    "# build token contract scheme\n",
    "token_contract = web3_instance.eth.contract(address=token_contract_address, abi=token_contract_abi)"
   ]
  },
  {
   "cell_type": "code",
   "execution_count": 23,
   "metadata": {},
   "outputs": [
    {
     "data": {
      "text/plain": [
       "<web3.contract.contract.ContractFunctions at 0x115b61cd0>"
      ]
     },
     "execution_count": 23,
     "metadata": {},
     "output_type": "execute_result"
    }
   ],
   "source": [
    "token_contract.functions  # methods of token"
   ]
  },
  {
   "cell_type": "code",
   "execution_count": 24,
   "metadata": {},
   "outputs": [
    {
     "data": {
      "text/plain": [
       "300"
      ]
     },
     "execution_count": 24,
     "metadata": {},
     "output_type": "execute_result"
    }
   ],
   "source": [
    "token_contract.functions.totalSupply().call()"
   ]
  },
  {
   "cell_type": "code",
   "execution_count": 25,
   "metadata": {},
   "outputs": [
    {
     "data": {
      "text/plain": [
       "'0x9e9044de58f6047e63513c12D8c6A7e53F4C6AFe'"
      ]
     },
     "execution_count": 25,
     "metadata": {},
     "output_type": "execute_result"
    }
   ],
   "source": [
    "token_contract.functions.getOwner().call()"
   ]
  },
  {
   "cell_type": "code",
   "execution_count": 33,
   "metadata": {},
   "outputs": [],
   "source": [
    "def send_signed_contract_transaction(contract_method):\n",
    "    private_key = '51a4f2fe64d75da3739c2bfc1e84ac5c1bae5fc29af3840ffe2e5b87fe570079'\n",
    "    nonce = web3_instance.eth.get_transaction_count(owner_address)\n",
    "    transaction = contract_method.build_transaction(\n",
    "        {'nonce': nonce, 'chainId': 1337, 'from': owner_address}\n",
    "    )\n",
    "    signed_transaction = web3_instance.eth.account.sign_transaction(\n",
    "        transaction, private_key=private_key,\n",
    "    )\n",
    "    return web3_instance.eth.send_raw_transaction(signed_transaction.rawTransaction)\n"
   ]
  },
  {
   "cell_type": "code",
   "execution_count": 36,
   "metadata": {},
   "outputs": [],
   "source": [
    "send_signed_contract_transaction(token_contract.functions.registerMember(\n",
    "    web3_instance.eth.accounts[1],\n",
    "))\n",
    "\n",
    "# token_contract.functions.registerMember(owner_address).transact({'from': owner_address})"
   ]
  },
  {
   "cell_type": "code",
   "execution_count": 37,
   "metadata": {},
   "outputs": [
    {
     "data": {
      "text/plain": [
       "('0x3Ab188835031d80874eC99856fd01E8E315f50FD',\n",
       " '0x3Ab188835031d80874eC99856fd01E8E315f50FD')"
      ]
     },
     "execution_count": 37,
     "metadata": {},
     "output_type": "execute_result"
    }
   ],
   "source": [
    "token_contract.functions.moderator().call(), owner_address"
   ]
  },
  {
   "cell_type": "code",
   "execution_count": 38,
   "metadata": {},
   "outputs": [
    {
     "data": {
      "text/plain": [
       "['0x3Ab188835031d80874eC99856fd01E8E315f50FD',\n",
       " '0x50ae8cF59Ebf7D1903f5803aEe533AF761BCE21c']"
      ]
     },
     "execution_count": 38,
     "metadata": {},
     "output_type": "execute_result"
    }
   ],
   "source": [
    "token_contract.functions.getMembersRegistry().call()"
   ]
  },
  {
   "cell_type": "code",
   "execution_count": 39,
   "metadata": {},
   "outputs": [],
   "source": [
    "send_signed_contract_transaction(token_contract.functions.registerDonateNeeds('some shit', 300))"
   ]
  },
  {
   "cell_type": "code",
   "execution_count": 40,
   "metadata": {},
   "outputs": [
    {
     "data": {
      "text/plain": [
       "['some shit']"
      ]
     },
     "execution_count": 40,
     "metadata": {},
     "output_type": "execute_result"
    }
   ],
   "source": [
    "token_contract.functions.donateNeedsNames(owner_address).call()"
   ]
  },
  {
   "cell_type": "code",
   "execution_count": 41,
   "metadata": {},
   "outputs": [
    {
     "data": {
      "text/plain": [
       "300"
      ]
     },
     "execution_count": 41,
     "metadata": {},
     "output_type": "execute_result"
    }
   ],
   "source": [
    "token_contract.functions.donateNeed(owner_address, 'some shit').call()"
   ]
  },
  {
   "cell_type": "code",
   "execution_count": null,
   "metadata": {},
   "outputs": [
    {
     "data": {
      "text/plain": [
       "HexBytes('0xd7c57b0185a8ebd10952ea819957c24669c43766e5630147fba0ee50d63db253')"
      ]
     },
     "execution_count": 22,
     "metadata": {},
     "output_type": "execute_result"
    }
   ],
   "source": [
    "# token_contract.functions.registerDonateNeeds('some shit', 300).transact({'from': owner_address})"
   ]
  },
  {
   "cell_type": "code",
   "execution_count": null,
   "metadata": {},
   "outputs": [
    {
     "data": {
      "text/plain": [
       "300"
      ]
     },
     "execution_count": 24,
     "metadata": {},
     "output_type": "execute_result"
    }
   ],
   "source": [
    "# token_contract.functions.donateNeed(owner_address, 'some shit').call()"
   ]
  },
  {
   "cell_type": "code",
   "execution_count": null,
   "metadata": {},
   "outputs": [
    {
     "data": {
      "text/plain": [
       "0"
      ]
     },
     "execution_count": 26,
     "metadata": {},
     "output_type": "execute_result"
    }
   ],
   "source": [
    "# token_contract.functions.donateBalance(owner_address).call()"
   ]
  },
  {
   "cell_type": "code",
   "execution_count": null,
   "metadata": {},
   "outputs": [
    {
     "data": {
      "text/plain": [
       "HexBytes('0x82eca1862b30cd55b9df06b7fa278b5e91d4af167d31508a893ba6e47853d8ee')"
      ]
     },
     "execution_count": 38,
     "metadata": {},
     "output_type": "execute_result"
    }
   ],
   "source": [
    "# # web3_instance.eth.send_transaction({\n",
    "#     'from': web3_instance.eth.accounts[1],\n",
    "#     'to': contract_address,\n",
    "#     'value': web3_instance.to_wei('10', 'wei'),\n",
    "# })"
   ]
  },
  {
   "cell_type": "code",
   "execution_count": null,
   "metadata": {},
   "outputs": [
    {
     "data": {
      "text/plain": [
       "(3, 7)"
      ]
     },
     "execution_count": 42,
     "metadata": {},
     "output_type": "execute_result"
    }
   ],
   "source": [
    "# token_contract.functions.balanceOf(owner_address).call(), \\\n",
    "#     token_contract.functions.balanceOf(web3_instance.eth.accounts[1]).call()"
   ]
  },
  {
   "cell_type": "code",
   "execution_count": null,
   "metadata": {},
   "outputs": [
    {
     "data": {
      "text/plain": [
       "HexBytes('0x1f73735e234e4ce3e478648e05b8ed4c203bdb98af1db6931c94e568379b90a0')"
      ]
     },
     "execution_count": 41,
     "metadata": {},
     "output_type": "execute_result"
    }
   ],
   "source": [
    "# token_contract.functions.transfer(owner_address, 3).transact({'from': web3_instance.eth.accounts[1]})"
   ]
  }
 ],
 "metadata": {
  "kernelspec": {
   "display_name": "venv",
   "language": "python",
   "name": "python3"
  },
  "language_info": {
   "codemirror_mode": {
    "name": "ipython",
    "version": 3
   },
   "file_extension": ".py",
   "mimetype": "text/x-python",
   "name": "python",
   "nbconvert_exporter": "python",
   "pygments_lexer": "ipython3",
   "version": "3.12.2"
  }
 },
 "nbformat": 4,
 "nbformat_minor": 2
}
